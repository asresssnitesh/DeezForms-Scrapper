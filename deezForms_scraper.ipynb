{
 "cells": [
  {
   "cell_type": "code",
   "execution_count": 1,
   "metadata": {},
   "outputs": [],
   "source": [
    "from selenium import webdriver\n",
    "from selenium.webdriver.chrome.options import Options\n",
    "from selenium.webdriver.common.by import By\n",
    "from selenium.webdriver.chrome.service import Service\n",
    "import deezforms_login as dl\n",
    "from creds import email,password\n",
    "from selenium.webdriver.support.ui import WebDriverWait\n",
    "from selenium.webdriver.support import expected_conditions as EC\n"
   ]
  },
  {
   "cell_type": "code",
   "execution_count": 2,
   "metadata": {},
   "outputs": [],
   "source": [
    "driver = webdriver.Chrome()\n",
    "linkedin_email = email\n",
    "linkedin_password = password\n",
    "dl.login(driver, email, password)"
   ]
  },
  {
   "cell_type": "code",
   "execution_count": 3,
   "metadata": {},
   "outputs": [],
   "source": [
    "driver.get(\"https://www.linkedin.com/in/sriharshamalla/\")\n"
   ]
  },
  {
   "cell_type": "code",
   "execution_count": 39,
   "metadata": {},
   "outputs": [
    {
     "name": "stdout",
     "output_type": "stream",
     "text": [
      "{'full_name': 'Sri Harsha Malla', 'headline': \"CSE ( AI&DS) @2024 || Tech & Design Lead @ OWASP-VIIT Student Chapter || Igniter @ Unstop Vigniter's club - VIIT || Editor of Millennials Masti The Podcast\"}\n"
     ]
    }
   ],
   "source": [
    "full_name = 'text-heading-xlarge'\n",
    "headline = 'text-body-medium'\n",
    "\n",
    "profile_dict = {'full_name':'','headline':''}\n",
    "\n",
    "profile_dict['full_name']=driver.find_element(By.CSS_SELECTOR,f\"h1.{full_name}\").get_attribute('innerText')\n",
    "profile_dict['headline']=driver.find_element(By.CSS_SELECTOR, \"div.text-body-medium\").get_attribute(\"innerText\")\n",
    "\n",
    "print(profile_dict)\n"
   ]
  },
  {
   "cell_type": "code",
   "execution_count": 44,
   "metadata": {},
   "outputs": [
    {
     "name": "stdout",
     "output_type": "stream",
     "text": [
      "{'Sri Harsha’s Profile': 'linkedin.com/in/sriharshamalla', 'Website': 'github.com/HarshaMalla', 'Twitter': 'Hargulla'}\n"
     ]
    }
   ],
   "source": [
    "contact_info = 'overlay/contact-info/'\n",
    "driver.get(f'https://www.linkedin.com/in/sriharshamalla/{contact_info}')\n",
    "\n",
    "headers = 'pv-contact-info__header.t-16.t-black.t-bold'\n",
    "links = 'pv-contact-info__contact-link'\n",
    "\n",
    "labels = [i.text for i in driver.find_elements(By.CSS_SELECTOR,f'h3.{headers}')]\n",
    "links = driver.find_elements(By.CSS_SELECTOR,f'a.{links}')\n",
    "profile_contacts = dict(zip(labels,[element.text for element in links]))\n",
    "\n",
    "print(profile_contacts)"
   ]
  },
  {
   "cell_type": "code",
   "execution_count": 42,
   "metadata": {},
   "outputs": [
    {
     "data": {
      "text/plain": [
       "{'about': \"I'm Sri Harsha, an aspiring Data Scientist with a strong academic background in Data Science and Artificial Intelligence. Currently, I'm pursuing my B.Tech in Data Science, which has helped me gain a deeper understanding of various concepts and techniques used in the field.\\n\\nThrough my B.Tech coursework, I have learned about various machine learning algorithms, such as Linear Regression, Logistic Regression, Decision Trees, Random Forests, and more. I have also gained a solid foundation in Deep Learning concepts, including Convolutional Neural Networks (CNNs), Recurrent Neural Networks (RNNs), and Generative Adversarial Networks (GANs).\\n\\nAdditionally, I have learned about Natural Language Processing (NLP) and Computer Vision, which are widely used in the industry today. I have applied these concepts in real-world projects, such as Sentiment Analysis, Image Classification, and Object Detection.\\n\\nMoreover, I have a sound understanding of Data Preprocessing, Feature Engineering, Exploratory Data Analysis, and Data Visualization. I have experience in using popular data science libraries, such as Pandas, NumPy, and Scikit-Learn, to analyze and manipulate datasets.\\n\\nFurthermore, I have experience in Front End development using HTML, CSS, JavaScript, and frameworks like React, Spline, and Vue. I'm also skilled in UI/UX designing using tools like Figma, Adobe XD, and Adobe Illustrator, which enables me to present my analysis and insights in a visually appealing way.\\n…see more\"}"
      ]
     },
     "execution_count": 42,
     "metadata": {},
     "output_type": "execute_result"
    }
   ],
   "source": [
    "profile_about = dict()\n",
    "profile_about['about']=driver.find_element(By.CSS_SELECTOR,'div.display-flex.ph5.pv3').find_element(By.CSS_SELECTOR,'div.display-flex').find_element(By.CSS_SELECTOR,'div.pv-shared-text-with-see-more').find_element(By.CSS_SELECTOR,'div.inline-show-more-text').text\n",
    "profile_about"
   ]
  },
  {
   "cell_type": "code",
   "execution_count": 45,
   "metadata": {},
   "outputs": [
    {
     "data": {
      "text/plain": [
       "{'full_name': 'Sri Harsha Malla',\n",
       " 'headline': \"CSE ( AI&DS) @2024 || Tech & Design Lead @ OWASP-VIIT Student Chapter || Igniter @ Unstop Vigniter's club - VIIT || Editor of Millennials Masti The Podcast\",\n",
       " 'about': \"I'm Sri Harsha, an aspiring Data Scientist with a strong academic background in Data Science and Artificial Intelligence. Currently, I'm pursuing my B.Tech in Data Science, which has helped me gain a deeper understanding of various concepts and techniques used in the field.\\n\\nThrough my B.Tech coursework, I have learned about various machine learning algorithms, such as Linear Regression, Logistic Regression, Decision Trees, Random Forests, and more. I have also gained a solid foundation in Deep Learning concepts, including Convolutional Neural Networks (CNNs), Recurrent Neural Networks (RNNs), and Generative Adversarial Networks (GANs).\\n\\nAdditionally, I have learned about Natural Language Processing (NLP) and Computer Vision, which are widely used in the industry today. I have applied these concepts in real-world projects, such as Sentiment Analysis, Image Classification, and Object Detection.\\n\\nMoreover, I have a sound understanding of Data Preprocessing, Feature Engineering, Exploratory Data Analysis, and Data Visualization. I have experience in using popular data science libraries, such as Pandas, NumPy, and Scikit-Learn, to analyze and manipulate datasets.\\n\\nFurthermore, I have experience in Front End development using HTML, CSS, JavaScript, and frameworks like React, Spline, and Vue. I'm also skilled in UI/UX designing using tools like Figma, Adobe XD, and Adobe Illustrator, which enables me to present my analysis and insights in a visually appealing way.\\n…see more\",\n",
       " 'Sri Harsha’s Profile': 'linkedin.com/in/sriharshamalla',\n",
       " 'Website': 'github.com/HarshaMalla',\n",
       " 'Twitter': 'Hargulla'}"
      ]
     },
     "execution_count": 45,
     "metadata": {},
     "output_type": "execute_result"
    }
   ],
   "source": [
    "profile = {**profile_dict,**profile_about,**profile_contacts}\n",
    "profile"
   ]
  }
 ],
 "metadata": {
  "kernelspec": {
   "display_name": "mlops",
   "language": "python",
   "name": "python3"
  },
  "language_info": {
   "codemirror_mode": {
    "name": "ipython",
    "version": 3
   },
   "file_extension": ".py",
   "mimetype": "text/x-python",
   "name": "python",
   "nbconvert_exporter": "python",
   "pygments_lexer": "ipython3",
   "version": "3.11.4"
  }
 },
 "nbformat": 4,
 "nbformat_minor": 2
}
